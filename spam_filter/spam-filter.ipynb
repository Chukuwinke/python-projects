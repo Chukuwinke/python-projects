{
 "cells": [
  {
   "cell_type": "code",
   "execution_count": 1,
   "id": "1a713100",
   "metadata": {},
   "outputs": [],
   "source": [
    "import pandas as pd;\n",
    "import nltk;\n",
    "import string;"
   ]
  },
  {
   "cell_type": "code",
   "execution_count": 2,
   "id": "913f0b9a",
   "metadata": {},
   "outputs": [],
   "source": [
    "df = pd.read_table('./SMSSpamCollection.txt', sep='\\t', header=None, names =[\"Labels\", \"SMS\"]);"
   ]
  },
  {
   "cell_type": "code",
   "execution_count": 3,
   "id": "749da504",
   "metadata": {},
   "outputs": [
    {
     "data": {
      "text/html": [
       "<div>\n",
       "<style scoped>\n",
       "    .dataframe tbody tr th:only-of-type {\n",
       "        vertical-align: middle;\n",
       "    }\n",
       "\n",
       "    .dataframe tbody tr th {\n",
       "        vertical-align: top;\n",
       "    }\n",
       "\n",
       "    .dataframe thead th {\n",
       "        text-align: right;\n",
       "    }\n",
       "</style>\n",
       "<table border=\"1\" class=\"dataframe\">\n",
       "  <thead>\n",
       "    <tr style=\"text-align: right;\">\n",
       "      <th></th>\n",
       "      <th>Labels</th>\n",
       "      <th>SMS</th>\n",
       "    </tr>\n",
       "  </thead>\n",
       "  <tbody>\n",
       "    <tr>\n",
       "      <th>0</th>\n",
       "      <td>ham</td>\n",
       "      <td>Go until jurong point, crazy.. Available only ...</td>\n",
       "    </tr>\n",
       "    <tr>\n",
       "      <th>1</th>\n",
       "      <td>ham</td>\n",
       "      <td>Ok lar... Joking wif u oni...</td>\n",
       "    </tr>\n",
       "    <tr>\n",
       "      <th>2</th>\n",
       "      <td>spam</td>\n",
       "      <td>Free entry in 2 a wkly comp to win FA Cup fina...</td>\n",
       "    </tr>\n",
       "    <tr>\n",
       "      <th>3</th>\n",
       "      <td>ham</td>\n",
       "      <td>U dun say so early hor... U c already then say...</td>\n",
       "    </tr>\n",
       "    <tr>\n",
       "      <th>4</th>\n",
       "      <td>ham</td>\n",
       "      <td>Nah I don't think he goes to usf, he lives aro...</td>\n",
       "    </tr>\n",
       "  </tbody>\n",
       "</table>\n",
       "</div>"
      ],
      "text/plain": [
       "  Labels                                                SMS\n",
       "0    ham  Go until jurong point, crazy.. Available only ...\n",
       "1    ham                      Ok lar... Joking wif u oni...\n",
       "2   spam  Free entry in 2 a wkly comp to win FA Cup fina...\n",
       "3    ham  U dun say so early hor... U c already then say...\n",
       "4    ham  Nah I don't think he goes to usf, he lives aro..."
      ]
     },
     "execution_count": 3,
     "metadata": {},
     "output_type": "execute_result"
    }
   ],
   "source": [
    "df.head()"
   ]
  },
  {
   "cell_type": "code",
   "execution_count": 4,
   "id": "102c025e",
   "metadata": {},
   "outputs": [
    {
     "name": "stdout",
     "output_type": "stream",
     "text": [
      "['i', 'me', 'my', 'myself']\n",
      "!\"#$%&'()*+,-./:;<=>?@[\\]^_`{|}~\n"
     ]
    },
    {
     "name": "stderr",
     "output_type": "stream",
     "text": [
      "[nltk_data] Downloading package stopwords to\n",
      "[nltk_data]     C:\\Users\\Asus\\AppData\\Roaming\\nltk_data...\n",
      "[nltk_data]   Package stopwords is already up-to-date!\n",
      "[nltk_data] Downloading package punkt to\n",
      "[nltk_data]     C:\\Users\\Asus\\AppData\\Roaming\\nltk_data...\n",
      "[nltk_data]   Package punkt is already up-to-date!\n"
     ]
    }
   ],
   "source": [
    "nltk.download(\"stopwords\");\n",
    "nltk.download(\"punkt\");\n",
    "\n",
    "stopwords = nltk.corpus.stopwords.words(\"english\");\n",
    "\n",
    "punctuation = string.punctuation;\n",
    "\n",
    "print(stopwords[:4]);\n",
    "print(punctuation);"
   ]
  },
  {
   "cell_type": "code",
   "execution_count": 5,
   "id": "34bf452f",
   "metadata": {},
   "outputs": [
    {
     "data": {
      "text/html": [
       "<div>\n",
       "<style scoped>\n",
       "    .dataframe tbody tr th:only-of-type {\n",
       "        vertical-align: middle;\n",
       "    }\n",
       "\n",
       "    .dataframe tbody tr th {\n",
       "        vertical-align: top;\n",
       "    }\n",
       "\n",
       "    .dataframe thead th {\n",
       "        text-align: right;\n",
       "    }\n",
       "</style>\n",
       "<table border=\"1\" class=\"dataframe\">\n",
       "  <thead>\n",
       "    <tr style=\"text-align: right;\">\n",
       "      <th></th>\n",
       "      <th>Labels</th>\n",
       "      <th>SMS</th>\n",
       "      <th>Processed</th>\n",
       "    </tr>\n",
       "  </thead>\n",
       "  <tbody>\n",
       "    <tr>\n",
       "      <th>0</th>\n",
       "      <td>ham</td>\n",
       "      <td>Go until jurong point, crazy.. Available only ...</td>\n",
       "      <td>[go, jurong, point, crazy, available, bugis, n...</td>\n",
       "    </tr>\n",
       "    <tr>\n",
       "      <th>1</th>\n",
       "      <td>ham</td>\n",
       "      <td>Ok lar... Joking wif u oni...</td>\n",
       "      <td>[ok, lar, joking, wif, u, oni]</td>\n",
       "    </tr>\n",
       "    <tr>\n",
       "      <th>2</th>\n",
       "      <td>spam</td>\n",
       "      <td>Free entry in 2 a wkly comp to win FA Cup fina...</td>\n",
       "      <td>[free, entry, 2, wkly, comp, win, fa, cup, fin...</td>\n",
       "    </tr>\n",
       "    <tr>\n",
       "      <th>3</th>\n",
       "      <td>ham</td>\n",
       "      <td>U dun say so early hor... U c already then say...</td>\n",
       "      <td>[u, dun, say, early, hor, u, c, already, say]</td>\n",
       "    </tr>\n",
       "    <tr>\n",
       "      <th>4</th>\n",
       "      <td>ham</td>\n",
       "      <td>Nah I don't think he goes to usf, he lives aro...</td>\n",
       "      <td>[nah, dont, think, goes, usf, lives, around, t...</td>\n",
       "    </tr>\n",
       "  </tbody>\n",
       "</table>\n",
       "</div>"
      ],
      "text/plain": [
       "  Labels                                                SMS  \\\n",
       "0    ham  Go until jurong point, crazy.. Available only ...   \n",
       "1    ham                      Ok lar... Joking wif u oni...   \n",
       "2   spam  Free entry in 2 a wkly comp to win FA Cup fina...   \n",
       "3    ham  U dun say so early hor... U c already then say...   \n",
       "4    ham  Nah I don't think he goes to usf, he lives aro...   \n",
       "\n",
       "                                           Processed  \n",
       "0  [go, jurong, point, crazy, available, bugis, n...  \n",
       "1                     [ok, lar, joking, wif, u, oni]  \n",
       "2  [free, entry, 2, wkly, comp, win, fa, cup, fin...  \n",
       "3      [u, dun, say, early, hor, u, c, already, say]  \n",
       "4  [nah, dont, think, goes, usf, lives, around, t...  "
      ]
     },
     "execution_count": 5,
     "metadata": {},
     "output_type": "execute_result"
    }
   ],
   "source": [
    "#pre Process the data\n",
    "\n",
    "def pre_process(sms):\n",
    "    lowercase = \"\".join([char.lower() for char in sms if char not in punctuation]);\n",
    "    \n",
    "    tokenize = nltk.tokenize.word_tokenize(lowercase);\n",
    "    \n",
    "    remove_stopwords = [word for word in tokenize if word not in stopwords];\n",
    "    \n",
    "    return remove_stopwords;\n",
    "\n",
    "df[\"Processed\"] = df[\"SMS\"].apply(lambda x: pre_process(x));\n",
    "\n",
    "df.head()"
   ]
  },
  {
   "cell_type": "code",
   "execution_count": 6,
   "id": "4c14b1a8",
   "metadata": {},
   "outputs": [
    {
     "name": "stdout",
     "output_type": "stream",
     "text": [
      "['free', 'entry', '2', 'wkly', 'comp']\n",
      "['go', 'jurong', 'point', 'crazy', 'available']\n"
     ]
    }
   ],
   "source": [
    "def categorize_words():\n",
    "    spam_words = [];\n",
    "    ham_words = [];\n",
    "    \n",
    "    # for spam assotiated words\n",
    "    for sms in df[\"Processed\"] [df[\"Labels\"] == \"spam\"]:\n",
    "        for word in sms:\n",
    "            spam_words.append(word);\n",
    "    \n",
    "    # for ham assotiated words\n",
    "    for sms in df[\"Processed\"] [df[\"Labels\"] == \"ham\"]:\n",
    "        for word in sms:\n",
    "            ham_words.append(word);\n",
    "    \n",
    "    return spam_words, ham_words\n",
    "\n",
    "spam_words, ham_words = categorize_words();\n",
    "\n",
    "print(spam_words[:5]);\n",
    "print(ham_words[:5]);\n",
    "        "
   ]
  },
  {
   "cell_type": "code",
   "execution_count": 7,
   "id": "7c49337a",
   "metadata": {},
   "outputs": [],
   "source": [
    "def predict(user_input):\n",
    "    spam_count = 0;\n",
    "    ham_count = 0;\n",
    "    \n",
    "    for word in user_input:\n",
    "        spam_count += spam_words.count(word);\n",
    "        ham_count += ham_words.count(word);\n",
    "        \n",
    "    print(\"=========================================== Result =======================================\")\n",
    "    \n",
    "    if spam_count > ham_count:\n",
    "        accuracy = round((spam_count / (ham_count + spam_count))* 100, 2)\n",
    "        print(f\"the message is spam with {accuracy}% accuracy\");\n",
    "        \n",
    "    elif ham_count > spam_count:\n",
    "        accuracy = round((ham_count / (ham_count + spam_count))* 100, 2)\n",
    "        print(f\"the message is not spam with {accuracy}% accuracy\");\n",
    "    else:\n",
    "        print(\"not sure\");\n"
   ]
  },
  {
   "cell_type": "code",
   "execution_count": 8,
   "id": "f716250c",
   "metadata": {},
   "outputs": [
    {
     "name": "stdout",
     "output_type": "stream",
     "text": [
      "Please type in a message\n",
      "we are going to school\n",
      "=========================================== Result =======================================\n",
      "the message is not spam with 97.98% accuracy\n"
     ]
    }
   ],
   "source": [
    "# collect user input\n",
    "\n",
    "user_input = input(\"Please type in a message\\n\")\n",
    "\n",
    "processed_input = pre_process(user_input);\n",
    "predict(processed_input);"
   ]
  },
  {
   "cell_type": "code",
   "execution_count": null,
   "id": "ca632429",
   "metadata": {},
   "outputs": [],
   "source": []
  }
 ],
 "metadata": {
  "kernelspec": {
   "display_name": "Python 3",
   "language": "python",
   "name": "python3"
  },
  "language_info": {
   "codemirror_mode": {
    "name": "ipython",
    "version": 3
   },
   "file_extension": ".py",
   "mimetype": "text/x-python",
   "name": "python",
   "nbconvert_exporter": "python",
   "pygments_lexer": "ipython3",
   "version": "3.8.8"
  }
 },
 "nbformat": 4,
 "nbformat_minor": 5
}
